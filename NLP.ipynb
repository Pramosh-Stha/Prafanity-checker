{
 "cells": [
  {
   "cell_type": "code",
   "execution_count": 162,
   "metadata": {},
   "outputs": [
    {
     "name": "stdout",
     "output_type": "stream",
     "text": [
      "   is_offensive                                               text\n",
      "0             0  Then go to the village pump and suggest they c...\n",
      "1             1  ANTI GREEK NATIONALIS -WIKIPEDIA \\n\\nHi Alexik...\n",
      "2             1     Dis hoe wasnt dis violent on Lottery Ticket 😂😂\n",
      "3             0  It is better for Atabay not helping the banned...\n",
      "4             0  \"is in CamelCase.  \"\"SiCKO\"\" is not CamelCase,...\n"
     ]
    }
   ],
   "source": [
    "import pandas as pd\n",
    "from sklearn.feature_extraction.text import CountVectorizer\n",
    "\n",
    "# Read in data\n",
    "data = pd.read_csv('clean_data.csv')\n",
    "texts = data['text'].astype(str)\n",
    "\n",
    "print (data.head())\n",
    "\n",
    "Y = data['is_offensive']\n",
    "\n",
    "# Vectorize the text\n",
    "vectorizer = CountVectorizer(stop_words='english', min_df=0.0001)\n",
    "X = vectorizer.fit_transform(texts)"
   ]
  },
  {
   "cell_type": "code",
   "execution_count": 163,
   "metadata": {},
   "outputs": [
    {
     "name": "stdout",
     "output_type": "stream",
     "text": [
      "(184354, 15442)\n",
      "\n",
      "  (0, 1105)\t1\n",
      "  (0, 6383)\t1\n",
      "  (0, 15139)\t4\n",
      "  (0, 6714)\t1\n",
      "  (0, 900)\t1\n",
      "  (0, 14672)\t2\n",
      "  (0, 4817)\t1\n",
      "  (0, 5470)\t2\n",
      "  (0, 7316)\t3\n",
      "  (0, 2635)\t1\n",
      "  (0, 4815)\t1\n",
      "  (0, 10168)\t1\n",
      "  (0, 6384)\t1\n",
      "  (0, 879)\t1\n",
      "  (0, 11261)\t1\n",
      "  (0, 2534)\t1\n",
      "  (0, 8878)\t1\n",
      "  (0, 7015)\t1\n"
     ]
    }
   ],
   "source": [
    "print(X.shape)\n",
    "print(\"\")\n",
    "print(X[1])"
   ]
  },
  {
   "cell_type": "code",
   "execution_count": 164,
   "metadata": {},
   "outputs": [
    {
     "name": "stdout",
     "output_type": "stream",
     "text": [
      "(1, 15442)\n",
      "[-2.51298569]\n"
     ]
    },
    {
     "name": "stderr",
     "output_type": "stream",
     "text": [
      "/Users/pratha/opt/anaconda3/lib/python3.8/site-packages/sklearn/linear_model/_logistic.py:763: ConvergenceWarning: lbfgs failed to converge (status=1):\n",
      "STOP: TOTAL NO. of ITERATIONS REACHED LIMIT.\n",
      "\n",
      "Increase the number of iterations (max_iter) or scale the data as shown in:\n",
      "    https://scikit-learn.org/stable/modules/preprocessing.html\n",
      "Please also refer to the documentation for alternative solver options:\n",
      "    https://scikit-learn.org/stable/modules/linear_model.html#logistic-regression\n",
      "  n_iter_i = _check_optimize_result(\n"
     ]
    }
   ],
   "source": [
    "from sklearn.linear_model import LogisticRegression\n",
    "from sklearn.model_selection import train_test_split\n",
    "\n",
    "x_train, x_test, y_train, y_test = train_test_split(X, Y, test_size = 0.2)\n",
    "model = LogisticRegression()\n",
    "\n",
    "model.fit(x_train, y_train)\n",
    "\n",
    "print(model.coef_.shape)\n",
    "\n",
    "print(model.intercept_)"
   ]
  },
  {
   "cell_type": "code",
   "execution_count": 165,
   "metadata": {},
   "outputs": [
    {
     "name": "stdout",
     "output_type": "stream",
     "text": [
      "              precision    recall  f1-score   support\n",
      "\n",
      "           0       0.96      0.98      0.97     29525\n",
      "           1       0.93      0.84      0.88      7346\n",
      "\n",
      "    accuracy                           0.95     36871\n",
      "   macro avg       0.94      0.91      0.93     36871\n",
      "weighted avg       0.95      0.95      0.95     36871\n",
      "\n",
      "[[29028   497]\n",
      " [ 1193  6153]]\n"
     ]
    }
   ],
   "source": [
    "from sklearn import metrics\n",
    "\n",
    "predictions = model.predict(x_test)\n",
    "\n",
    "print (metrics.classification_report(y_test, predictions))\n",
    "\n",
    "print(metrics.confusion_matrix(y_test, predictions))\n",
    "\n",
    "# metrics.mean_absolute_error(y_test, predictions)\n",
    "\n",
    "# metrics.mean_squared_error(y_test, predictions)"
   ]
  },
  {
   "cell_type": "code",
   "execution_count": 205,
   "metadata": {},
   "outputs": [
    {
     "data": {
      "text/html": [
       "<div>\n",
       "<style scoped>\n",
       "    .dataframe tbody tr th:only-of-type {\n",
       "        vertical-align: middle;\n",
       "    }\n",
       "\n",
       "    .dataframe tbody tr th {\n",
       "        vertical-align: top;\n",
       "    }\n",
       "\n",
       "    .dataframe thead th {\n",
       "        text-align: right;\n",
       "    }\n",
       "</style>\n",
       "<table border=\"1\" class=\"dataframe\">\n",
       "  <thead>\n",
       "    <tr style=\"text-align: right;\">\n",
       "      <th></th>\n",
       "      <th>test_data</th>\n",
       "    </tr>\n",
       "  </thead>\n",
       "  <tbody>\n",
       "    <tr>\n",
       "      <th>0</th>\n",
       "      <td>How beautiful is this day</td>\n",
       "    </tr>\n",
       "    <tr>\n",
       "      <th>1</th>\n",
       "      <td>Fuck me sideways</td>\n",
       "    </tr>\n",
       "    <tr>\n",
       "      <th>2</th>\n",
       "      <td>Shit movie</td>\n",
       "    </tr>\n",
       "    <tr>\n",
       "      <th>3</th>\n",
       "      <td>Shits movie</td>\n",
       "    </tr>\n",
       "    <tr>\n",
       "      <th>4</th>\n",
       "      <td>Actually it's a good idea</td>\n",
       "    </tr>\n",
       "  </tbody>\n",
       "</table>\n",
       "</div>"
      ],
      "text/plain": [
       "                   test_data\n",
       "0  How beautiful is this day\n",
       "1           Fuck me sideways\n",
       "2                 Shit movie\n",
       "3                Shits movie\n",
       "4  Actually it's a good idea"
      ]
     },
     "execution_count": 205,
     "metadata": {},
     "output_type": "execute_result"
    }
   ],
   "source": [
    "data = ['How beautiful is this day', 'Fuck me sideways', 'Shit movie',  'Shits movie', 'Actually it\\'s a good idea', 'Thank you very much' ,'You are bitch', 'It is a pleasure to watch it']\n",
    "  \n",
    "df_test = pd.DataFrame(data, columns=['test_data'])\n",
    "  \n",
    "df_test.head()"
   ]
  },
  {
   "cell_type": "code",
   "execution_count": 206,
   "metadata": {},
   "outputs": [
    {
     "name": "stdout",
     "output_type": "stream",
     "text": [
      "[0 1 1 0 0 0 1 0]\n"
     ]
    }
   ],
   "source": [
    "test_texts = df_test['test_data'].astype(str)\n",
    "\n",
    "X_test = vectorizer.transform(test_texts)\n",
    "\n",
    "print(model.predict(X_test))"
   ]
  },
  {
   "cell_type": "code",
   "execution_count": 207,
   "metadata": {},
   "outputs": [
    {
     "name": "stdout",
     "output_type": "stream",
     "text": [
      "['how beauti is thi day', 'fuck me sideway', 'shit movi', 'shit movi', \"actual it' a good idea\", 'thank you veri much', 'you are bitch', 'it is a pleasur to watch it']\n"
     ]
    }
   ],
   "source": [
    "from nltk.stem import PorterStemmer\n",
    "ps =PorterStemmer()\n",
    "\n",
    "# from nltk.stem.snowball import SnowballStemmer\n",
    "\n",
    "# stemmer = SnowballStemmer('english')\n",
    "\n",
    "stemmed_texts = []\n",
    "for text in data:\n",
    "    words = text.split()\n",
    "    stemmed_words = [ps.stem(word) for word in words]\n",
    "    stemmed_text = ' '.join(stemmed_words)\n",
    "    stemmed_texts.append(stemmed_text)\n",
    "\n",
    "print(stemmed_texts)"
   ]
  },
  {
   "cell_type": "code",
   "execution_count": 208,
   "metadata": {},
   "outputs": [
    {
     "name": "stdout",
     "output_type": "stream",
     "text": [
      "[0 1 1 1 0 0 1 0]\n"
     ]
    }
   ],
   "source": [
    "df_test = pd.DataFrame(stemmed_texts, columns=['test_data'])\n",
    "test_texts = df_test['test_data'].astype(str)\n",
    "\n",
    "X_test = vectorizer.transform(test_texts)\n",
    "\n",
    "print(model.predict(X_test))"
   ]
  }
 ],
 "metadata": {
  "kernelspec": {
   "display_name": "base",
   "language": "python",
   "name": "python3"
  },
  "language_info": {
   "codemirror_mode": {
    "name": "ipython",
    "version": 3
   },
   "file_extension": ".py",
   "mimetype": "text/x-python",
   "name": "python",
   "nbconvert_exporter": "python",
   "pygments_lexer": "ipython3",
   "version": "3.8.8"
  },
  "orig_nbformat": 4,
  "vscode": {
   "interpreter": {
    "hash": "e2bdd490934a09705ff8383ec209f981ee6c3f52d9195f76ed6e6522e520a5e6"
   }
  }
 },
 "nbformat": 4,
 "nbformat_minor": 2
}
